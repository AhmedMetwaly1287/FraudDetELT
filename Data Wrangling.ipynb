{
 "cells": [
  {
   "cell_type": "code",
   "execution_count": 36,
   "metadata": {},
   "outputs": [],
   "source": [
    "#Importing Necessary Libraries and Creating the Spark Application\n",
    "from pyspark.sql import SparkSession,functions as func\n",
    "from pyhive import hive\n",
    "\n",
    "sparkApp = SparkSession.builder \\\n",
    "    .appName(\"Spark Proj\") \\\n",
    "    .enableHiveSupport() \\\n",
    "    .config(\"hive.metastore.uris\", \"thrift://localhost:10000\") \\\n",
    "    .getOrCreate()\n"
   ]
  },
  {
   "cell_type": "code",
   "execution_count": 37,
   "metadata": {},
   "outputs": [],
   "source": [
    "df = sparkApp.read \\\n",
    "    .format(\"jdbc\") \\\n",
    "    .option(\"url\", \"jdbc:mysql://localhost:3306/bigdataproj\") \\\n",
    "    .option(\"dbtable\", \"transaction\") \\\n",
    "    .option(\"user\", \"root\") \\\n",
    "    .option(\"password\", \"\") \\\n",
    "    .load()"
   ]
  },
  {
   "cell_type": "code",
   "execution_count": 38,
   "metadata": {},
   "outputs": [
    {
     "name": "stdout",
     "output_type": "stream",
     "text": [
      "+---+-------------+----------+-----------+--------------+--------------+-------------------+-----------------+--------------------+----------+-------------------+------------+----------------+--------------------+-----------+--------------+---------------+-----------------------+-------+----------+---------------+--------------------+----------+------------+-------------+-----------+-------------+----------------+------------------------+-------+\n",
      "| id|accountNumber|customerId|creditLimit|availableMoney|currentBalance|transactionDateTime|transactionAmount|        merchantName|acqCountry|merchantCountryCode|posEntryMode|posConditionCode|merchantCategoryCode|cardPresent|currentExpDate|accountOpenDate|dateOfLastAddressChange|cardCVV|enteredCVV|cardLast4Digits|     transactionType|echoBuffer|merchantCity|merchantState|merchantZip|posOnPremises|recurringAuthInd|expirationDateKeyInMatch|isFraud|\n",
      "+---+-------------+----------+-----------+--------------+--------------+-------------------+-----------------+--------------------+----------+-------------------+------------+----------------+--------------------+-----------+--------------+---------------+-----------------------+-------+----------+---------------+--------------------+----------+------------+-------------+-----------+-------------+----------------+------------------------+-------+\n",
      "|  1|    737265056| 737265056|    5000.00|       5000.00|          0.00|2016-08-13 14:27:32|            98.55|                Uber|        US|                 US|          02|              01|           rideshare|      false|       06/2023|     2015-03-14|             2015-03-14|    414|       414|           1803|            PURCHASE|          |            |             |           |             |                |                   false|  false|\n",
      "|  2|    737265056| 737265056|    5000.00|       5000.00|          0.00|2016-10-11 05:05:54|            74.51|         AMC #191138|        US|                 US|          09|              01|       entertainment|       true|       02/2024|     2015-03-14|             2015-03-14|    486|       486|            767|            PURCHASE|          |            |             |           |             |                |                   false|  false|\n",
      "|  3|    737265056| 737265056|    5000.00|       5000.00|          0.00|2016-11-08 09:18:39|             7.47|          Play Store|        US|                 US|          09|              01|          mobileapps|      false|       08/2025|     2015-03-14|             2015-03-14|    486|       486|            767|            PURCHASE|          |            |             |           |             |                |                   false|  false|\n",
      "|  4|    737265056| 737265056|    5000.00|       5000.00|          0.00|2016-12-10 02:14:50|             7.47|          Play Store|        US|                 US|          09|              01|          mobileapps|      false|       08/2025|     2015-03-14|             2015-03-14|    486|       486|            767|            PURCHASE|          |            |             |           |             |                |                   false|  false|\n",
      "|  5|    830329091| 830329091|    5000.00|       5000.00|          0.00|2016-03-24 21:04:46|            71.18| Tim Hortons #947751|        US|                 US|          02|              01|            fastfood|       true|       10/2029|     2015-08-06|             2015-08-06|    885|       885|           3143|            PURCHASE|          |            |             |           |             |                |                   false|  false|\n",
      "|  6|    830329091| 830329091|    5000.00|       5000.00|          0.00|2016-04-19 16:24:27|            30.76|    In-N-Out #422833|        US|                 US|          02|              01|            fastfood|       true|       01/2020|     2015-08-06|             2015-08-06|    885|       885|           3143|            PURCHASE|          |            |             |           |             |                |                   false|  false|\n",
      "|  7|    830329091| 830329091|    5000.00|       5000.00|          0.00|2016-05-21 14:50:35|            57.28|Krispy Kreme #685312|        US|                 US|          02|              01|            fastfood|       true|       05/2020|     2015-08-06|             2015-08-06|    885|       885|           3143|            PURCHASE|          |            |             |           |             |                |                   false|  false|\n",
      "|  8|    830329091| 830329091|    5000.00|       5000.00|          0.00|2016-06-03 00:31:21|             9.37| Shake Shack #968081|        US|                 US|          05|              01|            fastfood|       true|       01/2021|     2015-08-06|             2015-08-06|    885|       885|           3143|            PURCHASE|          |            |             |           |             |                |                   false|  false|\n",
      "|  9|    830329091| 830329091|    5000.00|       4990.63|          9.37|2016-06-10 01:21:46|           523.67| Burger King #486122|          |                 US|          02|              01|            fastfood|       true|       08/2032|     2015-08-06|             2015-08-06|    885|       885|           3143|            PURCHASE|          |            |             |           |             |                |                   false|  false|\n",
      "| 10|    830329091| 830329091|    5000.00|       5000.00|          0.00|2016-07-11 10:47:16|           164.37|   Five Guys #510989|        US|                 US|          05|              08|            fastfood|       true|       04/2020|     2015-08-06|             2015-08-06|    885|       885|           3143|            PURCHASE|          |            |             |           |             |                |                   false|  false|\n",
      "| 11|    830329091| 830329091|    5000.00|       5000.00|          0.00|2016-09-07 20:22:47|           160.18|Auntie Anne's #74...|        US|                 US|          02|              08|            fastfood|       true|       05/2023|     2015-08-06|             2015-08-06|    885|       885|           3143|            PURCHASE|          |            |             |           |             |                |                   false|  false|\n",
      "| 12|    830329091| 830329091|    5000.00|       5000.00|          0.00|2016-12-07 16:34:04|            40.75|           GreenCook|        US|                 US|          09|              01|       food_delivery|      false|       08/2024|     2015-08-06|             2015-08-06|    885|       885|           3143|            PURCHASE|          |            |             |           |             |                |                   false|  false|\n",
      "| 13|    830329091| 830329091|    5000.00|       4959.25|         40.75|2016-12-14 10:00:35|            40.75|           GreenCook|        US|                 US|          09|              01|       food_delivery|      false|       08/2024|     2015-08-06|             2015-08-06|    885|       885|           3143|            PURCHASE|          |            |             |           |             |                |                   false|  false|\n",
      "| 14|    830329091| 830329091|    5000.00|       4918.50|         81.50|2016-12-20 18:38:23|            40.75|           GreenCook|        US|                 US|          09|              01|       food_delivery|      false|       08/2024|     2015-08-06|             2015-08-06|    885|       885|           3143|            PURCHASE|          |            |             |           |             |                |                   false|  false|\n",
      "| 15|    830329091| 830329091|    5000.00|       4877.75|        122.25|2016-12-28 06:43:01|            40.75|           GreenCook|        US|                 US|          09|              01|       food_delivery|      false|       08/2024|     2015-08-06|             2015-08-06|    885|       885|           3143|            PURCHASE|          |            |             |           |             |                |                   false|  false|\n",
      "| 16|    574788567| 574788567|    2500.00|       2500.00|          0.00|2016-01-02 11:19:46|            30.08|   Washington Repair|        US|                 US|          02|              01|                auto|       true|       12/2031|     2015-10-13|             2015-10-13|    206|       206|           8522|            PURCHASE|          |            |             |           |             |                |                   false|  false|\n",
      "| 17|    574788567| 574788567|    2500.00|       2469.92|         30.08|2016-01-16 01:01:27|            41.25|           Eazy Tire|        US|                 US|          09|              01|                auto|       true|       09/2027|     2015-10-13|             2015-10-13|    206|       206|           8522|            PURCHASE|          |            |             |           |             |                |                   false|  false|\n",
      "| 18|    574788567| 574788567|    2500.00|       2428.67|         71.33|2016-01-26 14:04:22|             0.00|Convenient Auto S...|        US|                 US|          09|              01|                auto|      false|       08/2025|     2015-10-13|             2015-10-13|    206|       206|           8522|ADDRESS_VERIFICATION|          |            |             |           |             |                |                   false|  false|\n",
      "| 19|    574788567| 574788567|    2500.00|       2428.67|         71.33|2016-01-29 07:17:39|           124.21|Convenient Auto S...|        US|                 US|          05|              01|                auto|       true|       08/2032|     2015-10-13|             2015-10-13|    579|       579|           4219|            PURCHASE|          |            |             |           |             |                |                   false|  false|\n",
      "| 20|    574788567| 574788567|    2500.00|       2304.46|        195.54|2016-01-29 07:33:15|           196.07|     Shell Auto Body|        US|                 US|          09|              01|                auto|       true|       08/2022|     2015-10-13|             2015-10-13|    579|       539|           4219|            PURCHASE|          |            |             |           |             |                |                   false|  false|\n",
      "+---+-------------+----------+-----------+--------------+--------------+-------------------+-----------------+--------------------+----------+-------------------+------------+----------------+--------------------+-----------+--------------+---------------+-----------------------+-------+----------+---------------+--------------------+----------+------------+-------------+-----------+-------------+----------------+------------------------+-------+\n",
      "only showing top 20 rows\n",
      "\n"
     ]
    }
   ],
   "source": [
    "df.show()"
   ]
  },
  {
   "cell_type": "code",
   "execution_count": 39,
   "metadata": {},
   "outputs": [
    {
     "name": "stdout",
     "output_type": "stream",
     "text": [
      "root\n",
      " |-- id: integer (nullable = true)\n",
      " |-- accountNumber: string (nullable = true)\n",
      " |-- customerId: string (nullable = true)\n",
      " |-- creditLimit: decimal(10,2) (nullable = true)\n",
      " |-- availableMoney: decimal(10,2) (nullable = true)\n",
      " |-- currentBalance: decimal(10,2) (nullable = true)\n",
      " |-- transactionDateTime: timestamp (nullable = true)\n",
      " |-- transactionAmount: decimal(10,2) (nullable = true)\n",
      " |-- merchantName: string (nullable = true)\n",
      " |-- acqCountry: string (nullable = true)\n",
      " |-- merchantCountryCode: string (nullable = true)\n",
      " |-- posEntryMode: string (nullable = true)\n",
      " |-- posConditionCode: string (nullable = true)\n",
      " |-- merchantCategoryCode: string (nullable = true)\n",
      " |-- cardPresent: boolean (nullable = true)\n",
      " |-- currentExpDate: string (nullable = true)\n",
      " |-- accountOpenDate: date (nullable = true)\n",
      " |-- dateOfLastAddressChange: date (nullable = true)\n",
      " |-- cardCVV: string (nullable = true)\n",
      " |-- enteredCVV: string (nullable = true)\n",
      " |-- cardLast4Digits: string (nullable = true)\n",
      " |-- transactionType: string (nullable = true)\n",
      " |-- echoBuffer: string (nullable = true)\n",
      " |-- merchantCity: string (nullable = true)\n",
      " |-- merchantState: string (nullable = true)\n",
      " |-- merchantZip: string (nullable = true)\n",
      " |-- posOnPremises: string (nullable = true)\n",
      " |-- recurringAuthInd: string (nullable = true)\n",
      " |-- expirationDateKeyInMatch: boolean (nullable = true)\n",
      " |-- isFraud: boolean (nullable = true)\n",
      "\n"
     ]
    }
   ],
   "source": [
    "df.printSchema()"
   ]
  },
  {
   "cell_type": "code",
   "execution_count": 40,
   "metadata": {},
   "outputs": [],
   "source": [
    "#Columns with only NULL Values, Does not contribute to the EDA process due to Data Loss\n",
    "COLUMNS_TO_DROP = ['echoBuffer','merchantState','merchantZip','recurringAuthInd','posOnPremises','merchantCity']\n",
    "\n",
    "df = df.drop(*COLUMNS_TO_DROP)"
   ]
  },
  {
   "cell_type": "code",
   "execution_count": 41,
   "metadata": {},
   "outputs": [
    {
     "name": "stdout",
     "output_type": "stream",
     "text": [
      "root\n",
      " |-- id: integer (nullable = true)\n",
      " |-- accountNumber: string (nullable = true)\n",
      " |-- customerId: string (nullable = true)\n",
      " |-- creditLimit: decimal(10,2) (nullable = true)\n",
      " |-- availableMoney: decimal(10,2) (nullable = true)\n",
      " |-- currentBalance: decimal(10,2) (nullable = true)\n",
      " |-- transactionDateTime: timestamp (nullable = true)\n",
      " |-- transactionAmount: decimal(10,2) (nullable = true)\n",
      " |-- merchantName: string (nullable = true)\n",
      " |-- acqCountry: string (nullable = true)\n",
      " |-- merchantCountryCode: string (nullable = true)\n",
      " |-- posEntryMode: string (nullable = true)\n",
      " |-- posConditionCode: string (nullable = true)\n",
      " |-- merchantCategoryCode: string (nullable = true)\n",
      " |-- cardPresent: boolean (nullable = true)\n",
      " |-- currentExpDate: string (nullable = true)\n",
      " |-- accountOpenDate: date (nullable = true)\n",
      " |-- dateOfLastAddressChange: date (nullable = true)\n",
      " |-- cardCVV: string (nullable = true)\n",
      " |-- enteredCVV: string (nullable = true)\n",
      " |-- cardLast4Digits: string (nullable = true)\n",
      " |-- transactionType: string (nullable = true)\n",
      " |-- expirationDateKeyInMatch: boolean (nullable = true)\n",
      " |-- isFraud: boolean (nullable = true)\n",
      "\n"
     ]
    }
   ],
   "source": [
    "#Schema of the dataset\n",
    "df.printSchema()"
   ]
  },
  {
   "cell_type": "code",
   "execution_count": 42,
   "metadata": {},
   "outputs": [
    {
     "name": "stdout",
     "output_type": "stream",
     "text": [
      "+---+-------------+----------+-----------+--------------+--------------+-------------------+-----------------+-------------------+----------+-------------------+------------+----------------+--------------------+-----------+--------------+---------------+-----------------------+-------+----------+---------------+---------------+------------------------+-------+\n",
      "| id|accountNumber|customerId|creditLimit|availableMoney|currentBalance|transactionDateTime|transactionAmount|       merchantName|acqCountry|merchantCountryCode|posEntryMode|posConditionCode|merchantCategoryCode|cardPresent|currentExpDate|accountOpenDate|dateOfLastAddressChange|cardCVV|enteredCVV|cardLast4Digits|transactionType|expirationDateKeyInMatch|isFraud|\n",
      "+---+-------------+----------+-----------+--------------+--------------+-------------------+-----------------+-------------------+----------+-------------------+------------+----------------+--------------------+-----------+--------------+---------------+-----------------------+-------+----------+---------------+---------------+------------------------+-------+\n",
      "|  1|    737265056| 737265056|    5000.00|       5000.00|          0.00|2016-08-13 14:27:32|            98.55|               Uber|        US|                 US|          02|              01|           rideshare|      false|       06/2023|     2015-03-14|             2015-03-14|    414|       414|           1803|       PURCHASE|                   false|  false|\n",
      "|  2|    737265056| 737265056|    5000.00|       5000.00|          0.00|2016-10-11 05:05:54|            74.51|        AMC #191138|        US|                 US|          09|              01|       entertainment|       true|       02/2024|     2015-03-14|             2015-03-14|    486|       486|            767|       PURCHASE|                   false|  false|\n",
      "|  3|    737265056| 737265056|    5000.00|       5000.00|          0.00|2016-11-08 09:18:39|             7.47|         Play Store|        US|                 US|          09|              01|          mobileapps|      false|       08/2025|     2015-03-14|             2015-03-14|    486|       486|            767|       PURCHASE|                   false|  false|\n",
      "|  4|    737265056| 737265056|    5000.00|       5000.00|          0.00|2016-12-10 02:14:50|             7.47|         Play Store|        US|                 US|          09|              01|          mobileapps|      false|       08/2025|     2015-03-14|             2015-03-14|    486|       486|            767|       PURCHASE|                   false|  false|\n",
      "|  5|    830329091| 830329091|    5000.00|       5000.00|          0.00|2016-03-24 21:04:46|            71.18|Tim Hortons #947751|        US|                 US|          02|              01|            fastfood|       true|       10/2029|     2015-08-06|             2015-08-06|    885|       885|           3143|       PURCHASE|                   false|  false|\n",
      "+---+-------------+----------+-----------+--------------+--------------+-------------------+-----------------+-------------------+----------+-------------------+------------+----------------+--------------------+-----------+--------------+---------------+-----------------------+-------+----------+---------------+---------------+------------------------+-------+\n",
      "only showing top 5 rows\n",
      "\n"
     ]
    }
   ],
   "source": [
    "df.show(5)"
   ]
  },
  {
   "cell_type": "code",
   "execution_count": 43,
   "metadata": {},
   "outputs": [
    {
     "name": "stdout",
     "output_type": "stream",
     "text": [
      "+---+-------------+-----------+--------------+--------------+-------------------+-----------------+-------------------+----------+-------------------+------------+----------------+--------------------+-----------+--------------+---------------+-----------------------+-------+----------+---------------+---------------+------------------------+-------+\n",
      "| id|accountNumber|creditLimit|availableMoney|currentBalance|transactionDateTime|transactionAmount|       merchantName|acqCountry|merchantCountryCode|posEntryMode|posConditionCode|merchantCategoryCode|cardPresent|currentExpDate|accountOpenDate|dateOfLastAddressChange|cardCVV|enteredCVV|cardLast4Digits|transactionType|expirationDateKeyInMatch|isFraud|\n",
      "+---+-------------+-----------+--------------+--------------+-------------------+-----------------+-------------------+----------+-------------------+------------+----------------+--------------------+-----------+--------------+---------------+-----------------------+-------+----------+---------------+---------------+------------------------+-------+\n",
      "|  1|    737265056|    5000.00|       5000.00|          0.00|2016-08-13 14:27:32|            98.55|               Uber|        US|                 US|          02|              01|           rideshare|      false|       06/2023|     2015-03-14|             2015-03-14|    414|       414|           1803|       PURCHASE|                   false|  false|\n",
      "|  2|    737265056|    5000.00|       5000.00|          0.00|2016-10-11 05:05:54|            74.51|        AMC #191138|        US|                 US|          09|              01|       entertainment|       true|       02/2024|     2015-03-14|             2015-03-14|    486|       486|            767|       PURCHASE|                   false|  false|\n",
      "|  3|    737265056|    5000.00|       5000.00|          0.00|2016-11-08 09:18:39|             7.47|         Play Store|        US|                 US|          09|              01|          mobileapps|      false|       08/2025|     2015-03-14|             2015-03-14|    486|       486|            767|       PURCHASE|                   false|  false|\n",
      "|  4|    737265056|    5000.00|       5000.00|          0.00|2016-12-10 02:14:50|             7.47|         Play Store|        US|                 US|          09|              01|          mobileapps|      false|       08/2025|     2015-03-14|             2015-03-14|    486|       486|            767|       PURCHASE|                   false|  false|\n",
      "|  5|    830329091|    5000.00|       5000.00|          0.00|2016-03-24 21:04:46|            71.18|Tim Hortons #947751|        US|                 US|          02|              01|            fastfood|       true|       10/2029|     2015-08-06|             2015-08-06|    885|       885|           3143|       PURCHASE|                   false|  false|\n",
      "+---+-------------+-----------+--------------+--------------+-------------------+-----------------+-------------------+----------+-------------------+------------+----------------+--------------------+-----------+--------------+---------------+-----------------------+-------+----------+---------------+---------------+------------------------+-------+\n",
      "only showing top 5 rows\n",
      "\n"
     ]
    }
   ],
   "source": [
    "#Dropping customerId as it is equivalent to accountNumber\n",
    "df=df.drop('customerId')\n",
    "\n",
    "df.show(5)"
   ]
  },
  {
   "cell_type": "markdown",
   "metadata": {},
   "source": [
    "1) Current Balance is the amount of money spent from the available limit\n",
    "2) Available Money is the amount of money you're allowed to spend before reaching credit limit"
   ]
  },
  {
   "cell_type": "code",
   "execution_count": 44,
   "metadata": {},
   "outputs": [
    {
     "name": "stdout",
     "output_type": "stream",
     "text": [
      "+----------+-----+\n",
      "|acqCountry|count|\n",
      "+----------+-----+\n",
      "|        CA|  156|\n",
      "|        ME|  208|\n",
      "|        US|49258|\n",
      "|          |  264|\n",
      "|        PR|  113|\n",
      "+----------+-----+\n",
      "\n"
     ]
    }
   ],
   "source": [
    "#Handling NULL Values in 'acqCountry' column by filling them using Mode\n",
    "df.groupBy('acqCountry').count().show()\n",
    "\n",
    "#Acquiring the mode value and storing it in a variable\n",
    "acqCountryMode = df.select(func.mode(\"acqCountry\")).first()[0]\n",
    "\n",
    "#Filling NULL values in the 'acqCountry' using the Mode Value\n",
    "dfNoNull = df.fillna({'acqCountry':acqCountryMode})"
   ]
  },
  {
   "cell_type": "markdown",
   "metadata": {},
   "source": [
    "Too many transactions in a little time is more likely to get the transactions flagged as fraudlent\n",
    "Spending more money than the amount in 'availableMoney' column results in a fraudlent transaction"
   ]
  },
  {
   "cell_type": "code",
   "execution_count": 45,
   "metadata": {},
   "outputs": [
    {
     "name": "stdout",
     "output_type": "stream",
     "text": [
      "+----+-------------+-----------+--------------+--------------+-------------------+-----------------+--------------------+----------+-------------------+------------+----------------+--------------------+-----------+--------------+---------------+-----------------------+-------+----------+---------------+---------------+------------------------+-------+\n",
      "|  id|accountNumber|creditLimit|availableMoney|currentBalance|transactionDateTime|transactionAmount|        merchantName|acqCountry|merchantCountryCode|posEntryMode|posConditionCode|merchantCategoryCode|cardPresent|currentExpDate|accountOpenDate|dateOfLastAddressChange|cardCVV|enteredCVV|cardLast4Digits|transactionType|expirationDateKeyInMatch|isFraud|\n",
      "+----+-------------+-----------+--------------+--------------+-------------------+-----------------+--------------------+----------+-------------------+------------+----------------+--------------------+-----------+--------------+---------------+-----------------------+-------+----------+---------------+---------------+------------------------+-------+\n",
      "| 695|    984504651|   50000.00|       8613.80|      41386.20|2016-09-08 16:14:40|           165.26|   Walgreens #860120|        US|                 US|          09|              08|              health|      false|       10/2021|     2015-07-27|             2016-06-25|    640|       640|           8332|       PURCHASE|                   false|   true|\n",
      "| 972|    114896048|   15000.00|      14113.96|        886.04|2016-01-06 08:05:06|           298.85|           sears.com|        US|                 US|          09|              01|       online_retail|      false|       09/2028|     2015-12-19|             2015-12-19|    773|       773|           8915|       PURCHASE|                   false|   true|\n",
      "|1073|    114896048|   15000.00|      13702.47|       1297.53|2016-03-07 02:40:54|           406.89|Planet Fitness #1...|        US|                 US|          09|              01|              health|      false|       05/2028|     2015-12-19|             2015-12-19|    773|       773|           8915|       PURCHASE|                   false|   true|\n",
      "|1114|    114896048|   15000.00|       8943.58|       6056.42|2016-04-09 15:14:04|           439.31|         oldnavy.com|        US|                 US|          09|              01|       online_retail|      false|       05/2032|     2015-12-19|             2015-12-19|    773|       773|           8915|       PURCHASE|                   false|   true|\n",
      "|1322|    114896048|   15000.00|       5223.03|       9776.97|2016-08-24 01:24:35|           266.09|           sears.com|        US|                 US|          09|              01|       online_retail|      false|       05/2028|     2015-12-19|             2016-06-10|    773|       773|           8915|       PURCHASE|                   false|   true|\n",
      "|1346|    114896048|   15000.00|       3094.15|      11905.85|2016-09-08 15:51:39|           195.28|                Uber|        US|                 US|          02|              01|           rideshare|      false|       12/2027|     2015-12-19|             2016-06-10|    773|       773|           8915|       PURCHASE|                   false|   true|\n",
      "|1347|    114896048|   15000.00|       2898.87|      12101.13|2016-09-08 22:19:31|           241.73|                Uber|        US|                 US|          09|              08|           rideshare|      false|       10/2020|     2015-12-19|             2016-06-10|    773|       773|           8915|       PURCHASE|                   false|   true|\n",
      "|1368|    114896048|   15000.00|       5422.83|       9577.17|2016-09-20 20:45:01|           104.34|           apple.com|        US|                 US|          09|              99|       online_retail|      false|       03/2029|     2015-12-19|             2016-06-10|    773|       773|           8915|       PURCHASE|                   false|   true|\n",
      "|1417|    114896048|   15000.00|      11866.15|       3133.85|2016-10-24 04:26:33|           143.07|         oldnavy.com|        US|                 US|          09|                |       online_retail|      false|       06/2031|     2015-12-19|             2016-06-10|    773|       773|           8915|       PURCHASE|                   false|   true|\n",
      "|1624|    482277829|    5000.00|       1482.10|       3517.90|2016-12-10 23:43:11|           345.45|            ebay.com|        US|                 US|          02|              01|       online_retail|      false|       07/2029|     2014-11-15|             2014-11-15|    483|       483|           7507|       PURCHASE|                   false|   true|\n",
      "+----+-------------+-----------+--------------+--------------+-------------------+-----------------+--------------------+----------+-------------------+------------+----------------+--------------------+-----------+--------------+---------------+-----------------------+-------+----------+---------------+---------------+------------------------+-------+\n",
      "only showing top 10 rows\n",
      "\n"
     ]
    }
   ],
   "source": [
    "#Sample of Fradulent Cases\n",
    "dfNoNull.filter(func.col('isFraud')=='true').show(10)"
   ]
  },
  {
   "cell_type": "markdown",
   "metadata": {},
   "source": [
    "Fraud Transactions can be caused as a result of inserting different expiry dates each transaction, none of which match the correct expiration date.\n",
    " "
   ]
  },
  {
   "cell_type": "code",
   "execution_count": 46,
   "metadata": {},
   "outputs": [
    {
     "name": "stdout",
     "output_type": "stream",
     "text": [
      "+------------------------+-----+\n",
      "|expirationDateKeyInMatch|count|\n",
      "+------------------------+-----+\n",
      "|                   false|  683|\n",
      "+------------------------+-----+\n",
      "\n"
     ]
    }
   ],
   "source": [
    "incorrectExpiryDateCases = dfNoNull.select('expirationDateKeyInMatch').filter(func.col('isFraud')=='true').groupBy('expirationDateKeyInMatch').count().show()"
   ]
  },
  {
   "cell_type": "code",
   "execution_count": 47,
   "metadata": {},
   "outputs": [
    {
     "name": "stdout",
     "output_type": "stream",
     "text": [
      "+---+-------------+-----------+--------------+--------------+-------------------+-----------------+-------------+----------+-------------------+------------+----------------+--------------------+-----------+--------------+---------------+-----------------------+-------+----------+---------------+---------------+------------------------+-------+\n",
      "| id|accountNumber|creditLimit|availableMoney|currentBalance|transactionDateTime|transactionAmount| merchantName|acqCountry|merchantCountryCode|posEntryMode|posConditionCode|merchantCategoryCode|cardPresent|currentExpDate|accountOpenDate|dateOfLastAddressChange|cardCVV|enteredCVV|cardLast4Digits|transactionType|expirationDateKeyInMatch|isFraud|\n",
      "+---+-------------+-----------+--------------+--------------+-------------------+-----------------+-------------+----------+-------------------+------------+----------------+--------------------+-----------+--------------+---------------+-----------------------+-------+----------+---------------+---------------+------------------------+-------+\n",
      "|969|    114896048|   15000.00|      15000.00|          0.00|2016-01-01 17:50:18|           288.77|cheapfast.com|        US|                 US|          05|              01|       online_retail|      false|       01/2021|     2015-12-19|             2015-12-19|    773|       773|           8915|       PURCHASE|                   false|  false|\n",
      "|970|    114896048|   15000.00|      14711.23|        288.77|2016-01-02 18:04:02|           355.60|         Uber|        US|                 US|          02|              01|           rideshare|      false|       02/2027|     2015-12-19|             2015-12-19|    773|       773|           8915|       PURCHASE|                   false|  false|\n",
      "|971|    114896048|   15000.00|      14355.63|        644.37|2016-01-06 05:41:42|           241.67|cheapfast.com|        US|                 US|          09|              01|       online_retail|      false|       11/2030|     2015-12-19|             2015-12-19|    773|       773|           8915|       PURCHASE|                   false|  false|\n",
      "|972|    114896048|   15000.00|      14113.96|        886.04|2016-01-06 08:05:06|           298.85|    sears.com|        US|                 US|          09|              01|       online_retail|      false|       09/2028|     2015-12-19|             2015-12-19|    773|       773|           8915|       PURCHASE|                   false|   true|\n",
      "|973|    114896048|   15000.00|      13815.11|       1184.89|2016-01-07 07:05:28|            44.68|cheapfast.com|        US|                 US|          09|              01|       online_retail|      false|       09/2030|     2015-12-19|             2015-12-19|    773|       773|           8915|       PURCHASE|                   false|  false|\n",
      "+---+-------------+-----------+--------------+--------------+-------------------+-----------------+-------------+----------+-------------------+------------+----------------+--------------------+-----------+--------------+---------------+-----------------------+-------+----------+---------------+---------------+------------------------+-------+\n",
      "only showing top 5 rows\n",
      "\n"
     ]
    }
   ],
   "source": [
    "#Exploring Recent Transactions of a Random User\n",
    "dfNoNull.filter(func.col('accountNumber')=='114896048').show(5)"
   ]
  },
  {
   "cell_type": "markdown",
   "metadata": {},
   "source": [
    "Fraudlent Cases are more likely to occur in the absence of the physical card (i.e online payments)"
   ]
  },
  {
   "cell_type": "code",
   "execution_count": 48,
   "metadata": {},
   "outputs": [
    {
     "name": "stdout",
     "output_type": "stream",
     "text": [
      "+-----------+-----+\n",
      "|cardPresent|count|\n",
      "+-----------+-----+\n",
      "|       true|  189|\n",
      "|      false|  494|\n",
      "+-----------+-----+\n",
      "\n"
     ]
    }
   ],
   "source": [
    "#Correlation Between Presence of Card and Fraudlent Cases\n",
    "cardPresentCases = dfNoNull.select('cardPresent').filter(func.col('isFraud')=='true').groupBy('cardPresent').count().show()"
   ]
  },
  {
   "cell_type": "markdown",
   "metadata": {},
   "source": [
    "Fraud Activites are most likely to occur in online retail stores"
   ]
  },
  {
   "cell_type": "code",
   "execution_count": 49,
   "metadata": {},
   "outputs": [
    {
     "name": "stdout",
     "output_type": "stream",
     "text": [
      "+--------------------+-----+\n",
      "|merchantCategoryCode|count|\n",
      "+--------------------+-----+\n",
      "|              hotels|    5|\n",
      "|                auto|   11|\n",
      "|           rideshare|  124|\n",
      "|                food|   61|\n",
      "|        online_gifts|   58|\n",
      "|              health|    3|\n",
      "|       personal care|   50|\n",
      "|           furniture|    7|\n",
      "|       online_retail|  280|\n",
      "|             airline|   10|\n",
      "|       entertainment|   17|\n",
      "|            fastfood|   52|\n",
      "|       subscriptions|    5|\n",
      "+--------------------+-----+\n",
      "\n"
     ]
    }
   ],
   "source": [
    "casesPerCategory = dfNoNull.select('merchantCategoryCode').filter(func.col('isFraud')=='true').groupBy('merchantCategoryCode').count().show()"
   ]
  },
  {
   "cell_type": "markdown",
   "metadata": {},
   "source": [
    "USA have witnessed the most amount of fraudlent cases"
   ]
  },
  {
   "cell_type": "code",
   "execution_count": 50,
   "metadata": {},
   "outputs": [
    {
     "name": "stdout",
     "output_type": "stream",
     "text": [
      "+----------+-----+\n",
      "|acqCountry|count|\n",
      "+----------+-----+\n",
      "|        CA|    2|\n",
      "|        ME|    3|\n",
      "|        US|  667|\n",
      "|          |    7|\n",
      "|        PR|    4|\n",
      "+----------+-----+\n",
      "\n"
     ]
    }
   ],
   "source": [
    "casesPerAcqCountry = dfNoNull.select('acqCountry').filter(func.col('isFraud')=='true').groupBy('acqCountry').count().show()"
   ]
  },
  {
   "cell_type": "markdown",
   "metadata": {},
   "source": [
    "Most Fraudlent Cases when Card Details is being entered manually"
   ]
  },
  {
   "cell_type": "code",
   "execution_count": 51,
   "metadata": {},
   "outputs": [
    {
     "name": "stdout",
     "output_type": "stream",
     "text": [
      "+------------+-----+\n",
      "|posEntryMode|count|\n",
      "+------------+-----+\n",
      "|          09|  316|\n",
      "|          05|  128|\n",
      "|          90|   16|\n",
      "|          02|  192|\n",
      "|            |   16|\n",
      "|          80|   15|\n",
      "+------------+-----+\n",
      "\n"
     ]
    }
   ],
   "source": [
    "casesPerEntryMode = dfNoNull.select('posEntryMode').filter(func.col('isFraud')=='true').groupBy('posEntryMode').count().show()"
   ]
  }
 ],
 "metadata": {
  "kernelspec": {
   "display_name": "Python 3",
   "language": "python",
   "name": "python3"
  },
  "language_info": {
   "codemirror_mode": {
    "name": "ipython",
    "version": 3
   },
   "file_extension": ".py",
   "mimetype": "text/x-python",
   "name": "python",
   "nbconvert_exporter": "python",
   "pygments_lexer": "ipython3",
   "version": "3.8.0"
  }
 },
 "nbformat": 4,
 "nbformat_minor": 2
}
