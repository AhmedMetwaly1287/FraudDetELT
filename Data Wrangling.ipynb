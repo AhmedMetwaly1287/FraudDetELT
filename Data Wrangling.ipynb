{
 "cells": [
  {
   "cell_type": "code",
   "execution_count": 1,
   "metadata": {},
   "outputs": [],
   "source": [
    "#Importing Necessary Libraries and Creating the Spark Application\n",
    "from pyspark.sql import SparkSession,functions as func\n",
    "\n",
    "sparkApp = SparkSession.builder \\\n",
    "    .appName(\"Data Transformation\") \\\n",
    "    .getOrCreate()\n"
   ]
  },
  {
   "cell_type": "code",
   "execution_count": 13,
   "metadata": {},
   "outputs": [],
   "source": [
    "df = sparkApp.read \\\n",
    "    .format(\"jdbc\") \\\n",
    "    .option(\"url\", \"jdbc:mysql://localhost:3306/bigdataproj\") \\\n",
    "    .option(\"dbtable\", \"transaction\") \\\n",
    "    .option(\"user\", \"root\") \\\n",
    "    .option(\"password\", \"\") \\\n",
    "    .load()"
   ]
  },
  {
   "cell_type": "code",
   "execution_count": 14,
   "metadata": {},
   "outputs": [
    {
     "name": "stdout",
     "output_type": "stream",
     "text": [
      "root\n",
      " |-- id: integer (nullable = true)\n",
      " |-- accountNumber: string (nullable = true)\n",
      " |-- customerId: string (nullable = true)\n",
      " |-- creditLimit: decimal(10,2) (nullable = true)\n",
      " |-- availableMoney: decimal(10,2) (nullable = true)\n",
      " |-- currentBalance: decimal(10,2) (nullable = true)\n",
      " |-- transactionDateTime: timestamp (nullable = true)\n",
      " |-- transactionAmount: decimal(10,2) (nullable = true)\n",
      " |-- merchantName: string (nullable = true)\n",
      " |-- acqCountry: string (nullable = true)\n",
      " |-- merchantCountryCode: string (nullable = true)\n",
      " |-- posEntryMode: string (nullable = true)\n",
      " |-- posConditionCode: string (nullable = true)\n",
      " |-- merchantCategoryCode: string (nullable = true)\n",
      " |-- cardPresent: boolean (nullable = true)\n",
      " |-- currentExpDate: string (nullable = true)\n",
      " |-- accountOpenDate: date (nullable = true)\n",
      " |-- dateOfLastAddressChange: date (nullable = true)\n",
      " |-- cardCVV: string (nullable = true)\n",
      " |-- enteredCVV: string (nullable = true)\n",
      " |-- cardLast4Digits: string (nullable = true)\n",
      " |-- transactionType: string (nullable = true)\n",
      " |-- echoBuffer: string (nullable = true)\n",
      " |-- merchantCity: string (nullable = true)\n",
      " |-- merchantState: string (nullable = true)\n",
      " |-- merchantZip: string (nullable = true)\n",
      " |-- posOnPremises: string (nullable = true)\n",
      " |-- recurringAuthInd: string (nullable = true)\n",
      " |-- expirationDateKeyInMatch: boolean (nullable = true)\n",
      " |-- isFraud: boolean (nullable = true)\n",
      "\n"
     ]
    }
   ],
   "source": [
    "df.printSchema()"
   ]
  },
  {
   "cell_type": "code",
   "execution_count": 15,
   "metadata": {},
   "outputs": [
    {
     "name": "stdout",
     "output_type": "stream",
     "text": [
      "-RECORD 0---------------------------------------\n",
      " id                       | 1                   \n",
      " accountNumber            | 737265056           \n",
      " customerId               | 737265056           \n",
      " creditLimit              | 5000.00             \n",
      " availableMoney           | 5000.00             \n",
      " currentBalance           | 0.00                \n",
      " transactionDateTime      | 2016-08-13 14:27:32 \n",
      " transactionAmount        | 98.55               \n",
      " merchantName             | Uber                \n",
      " acqCountry               | US                  \n",
      " merchantCountryCode      | US                  \n",
      " posEntryMode             | 02                  \n",
      " posConditionCode         | 01                  \n",
      " merchantCategoryCode     | rideshare           \n",
      " cardPresent              | false               \n",
      " currentExpDate           | 06/2023             \n",
      " accountOpenDate          | 2015-03-14          \n",
      " dateOfLastAddressChange  | 2015-03-14          \n",
      " cardCVV                  | 414                 \n",
      " enteredCVV               | 414                 \n",
      " cardLast4Digits          | 1803                \n",
      " transactionType          | PURCHASE            \n",
      " echoBuffer               |                     \n",
      " merchantCity             |                     \n",
      " merchantState            |                     \n",
      " merchantZip              |                     \n",
      " posOnPremises            |                     \n",
      " recurringAuthInd         |                     \n",
      " expirationDateKeyInMatch | false               \n",
      " isFraud                  | false               \n",
      "only showing top 1 row\n",
      "\n"
     ]
    }
   ],
   "source": [
    "df.show(1,vertical=True)"
   ]
  },
  {
   "cell_type": "code",
   "execution_count": 16,
   "metadata": {},
   "outputs": [],
   "source": [
    "#Columns with only NULL Values, Does not contribute to the EDA process due to Data Loss\n",
    "COLUMNS_TO_DROP = ['echoBuffer','merchantState','merchantZip','recurringAuthInd','posOnPremises','merchantCity']\n",
    "\n",
    "df = df.drop(*COLUMNS_TO_DROP)"
   ]
  },
  {
   "cell_type": "code",
   "execution_count": 17,
   "metadata": {},
   "outputs": [
    {
     "name": "stdout",
     "output_type": "stream",
     "text": [
      "root\n",
      " |-- id: integer (nullable = true)\n",
      " |-- accountNumber: string (nullable = true)\n",
      " |-- customerId: string (nullable = true)\n",
      " |-- creditLimit: decimal(10,2) (nullable = true)\n",
      " |-- availableMoney: decimal(10,2) (nullable = true)\n",
      " |-- currentBalance: decimal(10,2) (nullable = true)\n",
      " |-- transactionDateTime: timestamp (nullable = true)\n",
      " |-- transactionAmount: decimal(10,2) (nullable = true)\n",
      " |-- merchantName: string (nullable = true)\n",
      " |-- acqCountry: string (nullable = true)\n",
      " |-- merchantCountryCode: string (nullable = true)\n",
      " |-- posEntryMode: string (nullable = true)\n",
      " |-- posConditionCode: string (nullable = true)\n",
      " |-- merchantCategoryCode: string (nullable = true)\n",
      " |-- cardPresent: boolean (nullable = true)\n",
      " |-- currentExpDate: string (nullable = true)\n",
      " |-- accountOpenDate: date (nullable = true)\n",
      " |-- dateOfLastAddressChange: date (nullable = true)\n",
      " |-- cardCVV: string (nullable = true)\n",
      " |-- enteredCVV: string (nullable = true)\n",
      " |-- cardLast4Digits: string (nullable = true)\n",
      " |-- transactionType: string (nullable = true)\n",
      " |-- expirationDateKeyInMatch: boolean (nullable = true)\n",
      " |-- isFraud: boolean (nullable = true)\n",
      "\n"
     ]
    }
   ],
   "source": [
    "#Schema of the dataset\n",
    "df.printSchema()"
   ]
  },
  {
   "cell_type": "code",
   "execution_count": 18,
   "metadata": {},
   "outputs": [
    {
     "name": "stdout",
     "output_type": "stream",
     "text": [
      "-RECORD 0---------------------------------------\n",
      " id                       | 1                   \n",
      " accountNumber            | 737265056           \n",
      " customerId               | 737265056           \n",
      " creditLimit              | 5000.00             \n",
      " availableMoney           | 5000.00             \n",
      " currentBalance           | 0.00                \n",
      " transactionDateTime      | 2016-08-13 14:27:32 \n",
      " transactionAmount        | 98.55               \n",
      " merchantName             | Uber                \n",
      " acqCountry               | US                  \n",
      " merchantCountryCode      | US                  \n",
      " posEntryMode             | 02                  \n",
      " posConditionCode         | 01                  \n",
      " merchantCategoryCode     | rideshare           \n",
      " cardPresent              | false               \n",
      " currentExpDate           | 06/2023             \n",
      " accountOpenDate          | 2015-03-14          \n",
      " dateOfLastAddressChange  | 2015-03-14          \n",
      " cardCVV                  | 414                 \n",
      " enteredCVV               | 414                 \n",
      " cardLast4Digits          | 1803                \n",
      " transactionType          | PURCHASE            \n",
      " expirationDateKeyInMatch | false               \n",
      " isFraud                  | false               \n",
      "only showing top 1 row\n",
      "\n"
     ]
    }
   ],
   "source": [
    "df.show(1,vertical=True)"
   ]
  },
  {
   "cell_type": "code",
   "execution_count": 19,
   "metadata": {},
   "outputs": [
    {
     "name": "stdout",
     "output_type": "stream",
     "text": [
      "-RECORD 0---------------------------------------\n",
      " id                       | 1                   \n",
      " accountNumber            | 737265056           \n",
      " creditLimit              | 5000.00             \n",
      " availableMoney           | 5000.00             \n",
      " currentBalance           | 0.00                \n",
      " transactionDateTime      | 2016-08-13 14:27:32 \n",
      " transactionAmount        | 98.55               \n",
      " merchantName             | Uber                \n",
      " acqCountry               | US                  \n",
      " merchantCountryCode      | US                  \n",
      " posEntryMode             | 02                  \n",
      " posConditionCode         | 01                  \n",
      " merchantCategoryCode     | rideshare           \n",
      " cardPresent              | false               \n",
      " currentExpDate           | 06/2023             \n",
      " accountOpenDate          | 2015-03-14          \n",
      " dateOfLastAddressChange  | 2015-03-14          \n",
      " cardCVV                  | 414                 \n",
      " enteredCVV               | 414                 \n",
      " cardLast4Digits          | 1803                \n",
      " transactionType          | PURCHASE            \n",
      " expirationDateKeyInMatch | false               \n",
      " isFraud                  | false               \n",
      "only showing top 1 row\n",
      "\n"
     ]
    }
   ],
   "source": [
    "#Dropping customerId as it is equivalent to accountNumber\n",
    "df=df.drop('customerId')\n",
    "\n",
    "df.show(1,vertical=True)"
   ]
  },
  {
   "cell_type": "code",
   "execution_count": 20,
   "metadata": {},
   "outputs": [
    {
     "name": "stdout",
     "output_type": "stream",
     "text": [
      "Number of null values in column id is 0 \n",
      "\n",
      "Number of null values in column accountNumber is 0 \n",
      "\n",
      "Number of null values in column creditLimit is 0 \n",
      "\n",
      "Number of null values in column availableMoney is 0 \n",
      "\n",
      "Number of null values in column currentBalance is 0 \n",
      "\n",
      "Number of null values in column transactionDateTime is 0 \n",
      "\n",
      "Number of null values in column transactionAmount is 0 \n",
      "\n",
      "Number of null values in column merchantName is 0 \n",
      "\n",
      "Number of null values in column acqCountry is 0 \n",
      "\n",
      "Number of null values in column merchantCountryCode is 0 \n",
      "\n",
      "Number of null values in column posEntryMode is 0 \n",
      "\n",
      "Number of null values in column posConditionCode is 0 \n",
      "\n",
      "Number of null values in column merchantCategoryCode is 0 \n",
      "\n",
      "Number of null values in column cardPresent is 0 \n",
      "\n",
      "Number of null values in column currentExpDate is 0 \n",
      "\n",
      "Number of null values in column accountOpenDate is 0 \n",
      "\n",
      "Number of null values in column dateOfLastAddressChange is 0 \n",
      "\n",
      "Number of null values in column cardCVV is 0 \n",
      "\n",
      "Number of null values in column enteredCVV is 0 \n",
      "\n",
      "Number of null values in column cardLast4Digits is 0 \n",
      "\n",
      "Number of null values in column transactionType is 0 \n",
      "\n",
      "Number of null values in column expirationDateKeyInMatch is 0 \n",
      "\n",
      "Number of null values in column isFraud is 0 \n",
      "\n"
     ]
    }
   ],
   "source": [
    "for col in df.columns:\n",
    "    numOfNullValues = df.filter(func.col(col).isNull()).count()\n",
    "    print(f'Number of null values in column {col} is {numOfNullValues} \\n')"
   ]
  },
  {
   "cell_type": "code",
   "execution_count": 21,
   "metadata": {},
   "outputs": [],
   "source": [
    "#Creating new features to faciliate analysis\n",
    "df = df.withColumn('transactionDate',func.col('transactionDateTime').substr(0,10))\n",
    "\n",
    "df = df.withColumn('transactionTime',func.col('transactionDateTime').substr(11,19))\n",
    "\n",
    "df = df.drop('transactionDateTime')"
   ]
  },
  {
   "cell_type": "code",
   "execution_count": 22,
   "metadata": {},
   "outputs": [
    {
     "name": "stdout",
     "output_type": "stream",
     "text": [
      "-RECORD 0------------------------------\n",
      " id                       | 1          \n",
      " accountNumber            | 737265056  \n",
      " creditLimit              | 5000.00    \n",
      " availableMoney           | 5000.00    \n",
      " currentBalance           | 0.00       \n",
      " transactionDate          | 2016-08-13 \n",
      " transactionTime          |  14:27:32  \n",
      " transactionAmount        | 98.55      \n",
      " merchantName             | Uber       \n",
      " acqCountry               | US         \n",
      " merchantCountryCode      | US         \n",
      " posEntryMode             | 02         \n",
      " posConditionCode         | 01         \n",
      " merchantCategoryCode     | rideshare  \n",
      " cardPresent              | false      \n",
      " currentExpDate           | 06/2023    \n",
      " accountOpenDate          | 2015-03-14 \n",
      " dateOfLastAddressChange  | 2015-03-14 \n",
      " cardCVV                  | 414        \n",
      " enteredCVV               | 414        \n",
      " cardLast4Digits          | 1803       \n",
      " transactionType          | PURCHASE   \n",
      " expirationDateKeyInMatch | false      \n",
      " isFraud                  | false      \n",
      "only showing top 1 row\n",
      "\n"
     ]
    }
   ],
   "source": [
    "#Ordering Columns\n",
    "ORDERED_COLS = [\"id\", \"accountNumber\", \"creditLimit\", \"availableMoney\", \"currentBalance\", \"transactionDate\",\"transactionTime\", \"transactionAmount\", \"merchantName\", \"acqCountry\", \"merchantCountryCode\", \"posEntryMode\", \"posConditionCode\", \"merchantCategoryCode\", \"cardPresent\", \"currentExpDate\", \"accountOpenDate\", \"dateOfLastAddressChange\", \"cardCVV\", \"enteredCVV\", \"cardLast4Digits\", \"transactionType\", \"expirationDateKeyInMatch\", \"isFraud\"]\n",
    "\n",
    "orderedDF = df.select(*ORDERED_COLS)\n",
    "\n",
    "orderedDF.show(1,vertical=True)\n",
    "\n",
    "#Creating a new DF for further transformations\n",
    "transformationDF = orderedDF"
   ]
  },
  {
   "cell_type": "code",
   "execution_count": 23,
   "metadata": {},
   "outputs": [
    {
     "name": "stdout",
     "output_type": "stream",
     "text": [
      "+----------+-----+\n",
      "|acqCountry|count|\n",
      "+----------+-----+\n",
      "|        CA|  156|\n",
      "|        ME|  208|\n",
      "|        US|49258|\n",
      "|          |  264|\n",
      "|        PR|  113|\n",
      "+----------+-----+\n",
      "\n"
     ]
    }
   ],
   "source": [
    "#Handling NULL Values in 'acqCountry' column by filling them using Mode\n",
    "transformationDF.groupBy('acqCountry').count().show()\n",
    "\n",
    "#Acquiring the mode value and storing it in a variable\n",
    "acqCountryMode = transformationDF.select(func.mode(\"acqCountry\")).first()[0]\n",
    "\n",
    "#Filling NULL values in the 'acqCountry' using the Mode Value\n",
    "finalDF = transformationDF.fillna({'acqCountry':acqCountryMode})"
   ]
  },
  {
   "cell_type": "code",
   "execution_count": 156,
   "metadata": {},
   "outputs": [
    {
     "name": "stdout",
     "output_type": "stream",
     "text": [
      "Data inserted into database successfully\n"
     ]
    }
   ],
   "source": [
    "# Write the results back to MySQL\n",
    "finalDF.write.format(\"jdbc\") \\\n",
    "    .option(\"url\", \"jdbc:mysql://localhost:3306/bigdataproj\") \\\n",
    "    .option(\"dbtable\", \"fraudtransactions\") \\\n",
    "    .option(\"user\", \"root\") \\\n",
    "    .option(\"password\", \"\") \\\n",
    "    .mode(\"overwrite\")\\\n",
    "    .save()\n",
    "print(\"Data inserted into database successfully\")"
   ]
  },
  {
   "cell_type": "code",
   "execution_count": null,
   "metadata": {},
   "outputs": [],
   "source": [
    "sparkApp.stop()"
   ]
  }
 ],
 "metadata": {
  "kernelspec": {
   "display_name": "Python 3",
   "language": "python",
   "name": "python3"
  },
  "language_info": {
   "codemirror_mode": {
    "name": "ipython",
    "version": 3
   },
   "file_extension": ".py",
   "mimetype": "text/x-python",
   "name": "python",
   "nbconvert_exporter": "python",
   "pygments_lexer": "ipython3",
   "version": "3.8.0"
  }
 },
 "nbformat": 4,
 "nbformat_minor": 2
}
